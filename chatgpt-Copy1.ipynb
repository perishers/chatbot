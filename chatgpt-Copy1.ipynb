{
 "cells": [
  {
   "cell_type": "markdown",
   "id": "525da38d",
   "metadata": {},
   "source": [
    "# 环境配置"
   ]
  },
  {
   "cell_type": "code",
   "execution_count": 1,
   "id": "64818055",
   "metadata": {},
   "outputs": [],
   "source": [
    "import openai\n",
    "import os\n",
    "\n",
    "openai.api_key  = os.getenv('OPENAI_API_KEY')"
   ]
  },
  {
   "cell_type": "markdown",
   "id": "9a292dd7",
   "metadata": {},
   "source": [
    "# 连续提问"
   ]
  },
  {
   "cell_type": "code",
   "execution_count": 2,
   "id": "d99518b7",
   "metadata": {},
   "outputs": [],
   "source": [
    "def call_chatgpt(messages_list):\n",
    "    response = openai.ChatCompletion.create(\n",
    "        model=\"gpt-4\",\n",
    "        messages=messages_list,\n",
    "        temperature=0, # 模型输出的温度系数，控制输出的随机程度\n",
    "    )\n",
    "    return response.choices[0].message['content']\n",
    "\n",
    "def input_message():\n",
    "    messages_list = []\n",
    "    user_input = input('请提问：')\n",
    "    messages_list.append({'role':'user','content':user_input})\n",
    "    return messages_list\n",
    "\n",
    "\n",
    "def chatbotplus():\n",
    "    message_txt_onetime = input_message()\n",
    "    message_history.append(message_txt_onetime[-1])\n",
    "    response = call_chatgpt(message_history)\n",
    "    message_history.append({'role':'assistant','content':response})\n",
    "    return response"
   ]
  },
  {
   "cell_type": "code",
   "execution_count": 3,
   "id": "4e221640",
   "metadata": {
    "scrolled": false
   },
   "outputs": [
    {
     "name": "stdout",
     "output_type": "stream",
     "text": [
      "请提问：请推荐一些开封特色美食\n",
      "1. 开封灌汤包子：开封灌汤包子是开封的一种特色小吃，以其皮薄、馅大、汤多而著名。\n",
      "\n",
      "2. 开封烩面：开封烩面是河南省开封市的一道传统面食，以其独特的烹饪工艺和美味的口感而闻名。\n",
      "\n",
      "3. 开封鸡丝饼：开封鸡丝饼是开封的一种传统小吃，以其酥脆的口感和鲜美的鸡丝馅而受到人们的喜爱。\n",
      "\n",
      "4. 开封菜肴：开封菜肴是开封的一种传统菜系，以其独特的烹饪技巧和丰富的菜品种类而著名。\n",
      "\n",
      "5. 开封鲱鱼饼：开封鲱鱼饼是开封的一种传统小吃，以其鲜美的鱼馅和酥脆的外皮而受到人们的喜爱。\n",
      "\n",
      "6. 开封糕点：开封糕点是开封的一种传统糕点，以其精美的制作工艺和丰富的口感而受到人们的喜爱。\n",
      "\n",
      "7. 开封豆腐脑：开封豆腐脑是开封的一种传统小吃，以其醇厚的豆香和细腻的口感而受到人们的喜爱。\n",
      "\n",
      "8. 开封酥糖：开封酥糖是开封的一种传统糖果，以其酥脆的口感和甜蜜的味道而受到人们的喜爱。\n",
      "\n",
      "9. 开封炒鱼：开封炒鱼是开封的一种传统菜肴，以其鲜美的鱼肉和独特的烹饪技巧而受到人们的喜爱。\n",
      "\n",
      "10. 开封糖醋鱼：开封糖醋鱼是开封的一种传统菜肴，以其酸甜的口感和鲜美的鱼肉而受到人们的喜爱。\n",
      "已完成1次问答\n",
      "[{'role': 'user', 'content': '请推荐一些开封特色美食'}, {'role': 'assistant', 'content': '1. 开封灌汤包子：开封灌汤包子是开封的一种特色小吃，以其皮薄、馅大、汤多而著名。\\n\\n2. 开封烩面：开封烩面是河南省开封市的一道传统面食，以其独特的烹饪工艺和美味的口感而闻名。\\n\\n3. 开封鸡丝饼：开封鸡丝饼是开封的一种传统小吃，以其酥脆的口感和鲜美的鸡丝馅而受到人们的喜爱。\\n\\n4. 开封菜肴：开封菜肴是开封的一种传统菜系，以其独特的烹饪技巧和丰富的菜品种类而著名。\\n\\n5. 开封鲱鱼饼：开封鲱鱼饼是开封的一种传统小吃，以其鲜美的鱼馅和酥脆的外皮而受到人们的喜爱。\\n\\n6. 开封糕点：开封糕点是开封的一种传统糕点，以其精美的制作工艺和丰富的口感而受到人们的喜爱。\\n\\n7. 开封豆腐脑：开封豆腐脑是开封的一种传统小吃，以其醇厚的豆香和细腻的口感而受到人们的喜爱。\\n\\n8. 开封酥糖：开封酥糖是开封的一种传统糖果，以其酥脆的口感和甜蜜的味道而受到人们的喜爱。\\n\\n9. 开封炒鱼：开封炒鱼是开封的一种传统菜肴，以其鲜美的鱼肉和独特的烹饪技巧而受到人们的喜爱。\\n\\n10. 开封糖醋鱼：开封糖醋鱼是开封的一种传统菜肴，以其酸甜的口感和鲜美的鱼肉而受到人们的喜爱。'}]\n",
      "<class 'str'>\n",
      "是否继续使用ChatGPT？（Y/y），否则请按任意键退出y\n",
      "请提问：这些美食中哪些是面食？\n",
      "在上述开封特色美食中，属于面食的有：\n",
      "\n",
      "1. 开封烩面：开封烩面是河南省开封市的一道传统面食，以其独特的烹饪工艺和美味的口感而闻名。\n",
      "\n",
      "2. 开封鸡丝饼：开封鸡丝饼是开封的一种传统小吃，以其酥脆的口感和鲜美的鸡丝馅而受到人们的喜爱。虽然它的名字中有“饼”，但其实它是一种面食，因为它的主要成分是面粉。\n",
      "已完成2次问答\n",
      "[{'role': 'user', 'content': '请推荐一些开封特色美食'}, {'role': 'assistant', 'content': '1. 开封灌汤包子：开封灌汤包子是开封的一种特色小吃，以其皮薄、馅大、汤多而著名。\\n\\n2. 开封烩面：开封烩面是河南省开封市的一道传统面食，以其独特的烹饪工艺和美味的口感而闻名。\\n\\n3. 开封鸡丝饼：开封鸡丝饼是开封的一种传统小吃，以其酥脆的口感和鲜美的鸡丝馅而受到人们的喜爱。\\n\\n4. 开封菜肴：开封菜肴是开封的一种传统菜系，以其独特的烹饪技巧和丰富的菜品种类而著名。\\n\\n5. 开封鲱鱼饼：开封鲱鱼饼是开封的一种传统小吃，以其鲜美的鱼馅和酥脆的外皮而受到人们的喜爱。\\n\\n6. 开封糕点：开封糕点是开封的一种传统糕点，以其精美的制作工艺和丰富的口感而受到人们的喜爱。\\n\\n7. 开封豆腐脑：开封豆腐脑是开封的一种传统小吃，以其醇厚的豆香和细腻的口感而受到人们的喜爱。\\n\\n8. 开封酥糖：开封酥糖是开封的一种传统糖果，以其酥脆的口感和甜蜜的味道而受到人们的喜爱。\\n\\n9. 开封炒鱼：开封炒鱼是开封的一种传统菜肴，以其鲜美的鱼肉和独特的烹饪技巧而受到人们的喜爱。\\n\\n10. 开封糖醋鱼：开封糖醋鱼是开封的一种传统菜肴，以其酸甜的口感和鲜美的鱼肉而受到人们的喜爱。'}, {'role': 'user', 'content': '这些美食中哪些是面食？'}, {'role': 'assistant', 'content': '在上述开封特色美食中，属于面食的有：\\n\\n1. 开封烩面：开封烩面是河南省开封市的一道传统面食，以其独特的烹饪工艺和美味的口感而闻名。\\n\\n2. 开封鸡丝饼：开封鸡丝饼是开封的一种传统小吃，以其酥脆的口感和鲜美的鸡丝馅而受到人们的喜爱。虽然它的名字中有“饼”，但其实它是一种面食，因为它的主要成分是面粉。'}]\n",
      "<class 'str'>\n",
      "是否继续使用ChatGPT？（Y/y），否则请按任意键退出n\n"
     ]
    }
   ],
   "source": [
    "counter = 0\n",
    "message_history = []\n",
    "while(True):\n",
    "    replay = ''\n",
    "    if counter >=1:\n",
    "        replay = input('是否继续使用ChatGPT？（Y/y），否则请按任意键退出')\n",
    "    if replay == 'Y' or replay == 'y'or counter ==0:\n",
    "        reply_content = chatbotplus()\n",
    "        print(reply_content)\n",
    "        counter += 1\n",
    "        print(f'已完成{counter}次问答')\n",
    "        print(message_history)\n",
    "        print(type(reply_content))\n",
    "    else:\n",
    "        break"
   ]
  },
  {
   "cell_type": "code",
   "execution_count": null,
   "id": "22b7f7e0",
   "metadata": {},
   "outputs": [],
   "source": []
  },
  {
   "cell_type": "code",
   "execution_count": null,
   "id": "92f65965",
   "metadata": {},
   "outputs": [],
   "source": []
  },
  {
   "cell_type": "code",
   "execution_count": null,
   "id": "ce296ec1",
   "metadata": {},
   "outputs": [],
   "source": []
  },
  {
   "cell_type": "code",
   "execution_count": null,
   "id": "b04578b0",
   "metadata": {},
   "outputs": [],
   "source": []
  },
  {
   "cell_type": "code",
   "execution_count": null,
   "id": "701dc644",
   "metadata": {},
   "outputs": [],
   "source": []
  },
  {
   "cell_type": "code",
   "execution_count": null,
   "id": "10551e72",
   "metadata": {},
   "outputs": [],
   "source": []
  },
  {
   "cell_type": "code",
   "execution_count": null,
   "id": "35340c24",
   "metadata": {},
   "outputs": [],
   "source": []
  },
  {
   "cell_type": "code",
   "execution_count": null,
   "id": "774280f7",
   "metadata": {},
   "outputs": [],
   "source": []
  },
  {
   "cell_type": "code",
   "execution_count": null,
   "id": "51d90817",
   "metadata": {},
   "outputs": [],
   "source": []
  }
 ],
 "metadata": {
  "kernelspec": {
   "display_name": "Python [conda env:chatgpt]",
   "language": "python",
   "name": "conda-env-chatgpt-py"
  },
  "language_info": {
   "codemirror_mode": {
    "name": "ipython",
    "version": 3
   },
   "file_extension": ".py",
   "mimetype": "text/x-python",
   "name": "python",
   "nbconvert_exporter": "python",
   "pygments_lexer": "ipython3",
   "version": "3.9.18"
  },
  "toc": {
   "base_numbering": 1,
   "nav_menu": {},
   "number_sections": true,
   "sideBar": true,
   "skip_h1_title": false,
   "title_cell": "Table of Contents",
   "title_sidebar": "Contents",
   "toc_cell": false,
   "toc_position": {
    "height": "calc(100% - 180px)",
    "left": "10px",
    "top": "150px",
    "width": "217.575px"
   },
   "toc_section_display": true,
   "toc_window_display": true
  },
  "varInspector": {
   "cols": {
    "lenName": 16,
    "lenType": 16,
    "lenVar": 40
   },
   "kernels_config": {
    "python": {
     "delete_cmd_postfix": "",
     "delete_cmd_prefix": "del ",
     "library": "var_list.py",
     "varRefreshCmd": "print(var_dic_list())"
    },
    "r": {
     "delete_cmd_postfix": ") ",
     "delete_cmd_prefix": "rm(",
     "library": "var_list.r",
     "varRefreshCmd": "cat(var_dic_list()) "
    }
   },
   "oldHeight": 226.25,
   "position": {
    "height": "247.85px",
    "left": "1672.6px",
    "right": "20px",
    "top": "120px",
    "width": "355.4px"
   },
   "types_to_exclude": [
    "module",
    "function",
    "builtin_function_or_method",
    "instance",
    "_Feature"
   ],
   "varInspector_section_display": "block",
   "window_display": false
  }
 },
 "nbformat": 4,
 "nbformat_minor": 5
}
